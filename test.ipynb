{
    "nbformat_minor": 1, 
    "cells": [
        {
            "outputs": [
                {
                    "output_type": "stream", 
                    "name": "stdout", 
                    "text": "\u001b[31mDEPRECATION: The default format will switch to columns in the future. You can use --format=(legacy|columns) (or define a format=(legacy|columns) in your pip.conf under the [list] section) to disable this warning.\u001b[0m\r\nappdirs (1.4.3)\r\nBabel (2.1.1)\r\nbackports-abc (0.4)\r\nbackports.shutil-get-terminal-size (1.0.0)\r\nbackports.ssl-match-hostname (3.4.0.2)\r\nbackports.weakref (1.0rc1)\r\nbasemap (1.0.7)\r\nbeautifulsoup4 (4.4.1)\r\nbiopython (1.66)\r\nbitarray (0.8.1)\r\nbleach (2.0.0)\r\nbokeh (0.12.5)\r\nboto3 (1.4.4)\r\nbotocore (1.5.50)\r\nbrunel (2.3)\r\ncdsax-jupyter-extensions (0.1)\r\ncertifi (2017.1.23)\r\ncognitive-assistant (1.0.43)\r\nconfigparser (3.5.0)\r\ncycler (0.9.0)\r\nCython (0.23.4)\r\ndebtcollector (1.1.0)\r\ndecorator (4.0.6)\r\ndescartes (1.0.1)\r\ndill (0.2.5)\r\ndlaas-client (0.1.29)\r\ndocutils (0.13.1)\r\nentrypoints (0.2.2)\r\nenum (0.4.6)\r\nenum34 (1.1.5)\r\nextension-utils (0.1.41)\r\nextras (0.0.3)\r\nfixtures (2.0.0)\r\nFlask (0.10.1)\r\nfuncsigs (1.0.2)\r\nfunctools32 (3.2.3.post2)\r\nfuture (0.15.2)\r\nfutures (3.0.5)\r\ngeojson (1.3.5)\r\ngeopy (1.11.0)\r\nhtml5lib (0.999999999)\r\nibmdbpy (0.1.4)\r\nibmos2spark (1.0.0)\r\nip-associations-python-novaclient-ext (0.1)\r\nipykernel (4.6.1)\r\nipython (5.3.0)\r\nipython-genutils (0.1.0)\r\nipywidgets (6.0.0)\r\niso8601 (0.1.11)\r\nitsdangerous (0.24)\r\nJayDeBeApi (0.2.0)\r\nJinja2 (2.8)\r\njmespath (0.9.2)\r\nJPype1 (0.6.1)\r\njsonschema (2.5.1)\r\njupyter-client (5.1.0)\r\njupyter-core (4.3.0)\r\njupyter-kernel-gateway (1.2.2)\r\njupyter-pip (0.3)\r\nKeras (2.0.5)\r\nkeyring (5.7)\r\nkeystoneauth1 (2.1.0)\r\nLasagne (0.2.dev1)\r\nlazy (1.2)\r\nlinecache2 (1.0.0)\r\nlxml (3.5.0)\r\nMarkdown (2.6.8)\r\nMarkupSafe (0.23)\r\nmatplotlib (1.5.0)\r\nmaven-artifact (0.1.6)\r\nmistune (0.7.1)\r\nml-algorithms (1.1.11.post201708090410)\r\nml-pipeline (0.1.0.post201703270718)\r\nmock (2.0.0)\r\nmonotonic (0.4)\r\nmpld3 (0.2)\r\nmplleaflet (0.0.5)\r\nmsgpack-python (0.4.6)\r\nMySQL-python (1.2.5)\r\nnbconvert (5.1.1)\r\nnbformat (4.3.0)\r\nnetaddr (0.7.18)\r\nnetifaces (0.10.4)\r\nnetworkx (1.10)\r\nnltk (3.1)\r\nnose (1.3.7)\r\nnotebook (5.0.0)\r\nnumexpr (2.4.6)\r\nnumpy (1.13.1)\r\nos-diskconfig-python-novaclient-ext (0.1.2)\r\nos-networksv2-python-novaclient-ext (0.25)\r\nos-virtual-interfacesv2-python-novaclient-ext (0.19)\r\noslo.config (3.1.0)\r\noslo.i18n (3.1.0)\r\noslo.serialization (2.1.0)\r\noslo.utils (3.2.0)\r\npackaging (16.8)\r\npandas (0.17.1)\r\npandocfilters (1.4.1)\r\npath.py (8.1.2)\r\npathlib2 (2.2.1)\r\npatsy (0.4.1)\r\npbr (1.8.1)\r\npexpect (4.0.1)\r\npickleshare (0.5)\r\nPillow (3.0.0)\r\npip (9.0.1)\r\npipeline (0.1.156)\r\npixiedust (1.0.7)\r\nplotly (2.0.12)\r\nprettytable (0.7.2)\r\nprojectnb (0.1.6)\r\nprompt-toolkit (1.0.14)\r\nprotobuf (3.0.0b2)\r\npsycopg2 (2.5.4)\r\nptyprocess (0.5)\r\nPygments (2.0.2)\r\npyparsing (2.0.6)\r\npyproj (1.9.4)\r\npypyodbc (1.3.4)\r\npyrax (1.9.5)\r\npyshp (1.2.3)\r\npython-dateutil (2.4.2)\r\npython-keystoneclient (2.0.0)\r\npython-mimeparse (1.5.1)\r\npython-novaclient (2.35.0)\r\npython-subunit (1.2.0)\r\npytz (2017.2)\r\nPyYAML (3.11)\r\npyzmq (15.1.0)\r\nrackspace-auth-openstack (1.3)\r\nrackspace-novaclient (1.5)\r\nrax-default-network-flags-python-novaclient-ext (0.3.2)\r\nrax-scheduled-images-python-novaclient-ext (0.3.1)\r\nrepository (0.1.227.post201707250402)\r\nrepoze.lru (0.6)\r\nrequests (2.9.1)\r\ns3transfer (0.1.10)\r\nscandir (1.5)\r\nscikit-image (0.11.3)\r\nscikit-learn (0.17)\r\nscipy (0.17.0)\r\nseaborn (0.7.1)\r\nsetuptools (36.0.1)\r\nsilpa-common (0.3)\r\nsimplegeneric (0.8.1)\r\nsimplejson (3.8.1)\r\nsingledispatch (3.4.0.3)\r\nsix (1.10.0)\r\nsklearn-pipeline (0.1.93)\r\nsoundex (1.1.3)\r\nstatsmodels (0.6.1)\r\nstevedore (1.10.0)\r\nstreamsx (1.6.0)\r\nsympy (0.7.6.1)\r\nsystemml (0.14.0)\r\ntensorflow (1.2.1)\r\nterminado (0.5)\r\ntestpath (0.3.1)\r\ntestrepository (0.0.20)\r\ntesttools (2.1.0)\r\nTheano (0.8.2)\r\ntornado (4.3)\r\ntraceback2 (1.4.0)\r\ntraitlets (4.2.1)\r\ntransformation (0.1.7)\r\nunittest2 (1.1.0)\r\nurllib3 (1.14)\r\nwcwidth (0.1.7)\r\nwebencodings (0.5.1)\r\nWerkzeug (0.12.2)\r\nwheel (0.29.0)\r\nwidgetsnbextension (2.0.0)\r\nwrapt (1.10.6)\r\nxgboost (0.6a2)\r\n"
                }
            ], 
            "cell_type": "code", 
            "metadata": {}, 
            "source": "! pip list --isolated", 
            "execution_count": 4
        }
    ], 
    "metadata": {
        "kernelspec": {
            "display_name": "Python 2 with Spark 2.0", 
            "name": "python2-spark20", 
            "language": "python"
        }, 
        "language_info": {
            "mimetype": "text/x-python", 
            "codemirror_mode": {
                "name": "ipython", 
                "version": 2
            }, 
            "pygments_lexer": "ipython2", 
            "version": "2.7.11", 
            "name": "python", 
            "file_extension": ".py", 
            "nbconvert_exporter": "python"
        }
    }, 
    "nbformat": 4
}